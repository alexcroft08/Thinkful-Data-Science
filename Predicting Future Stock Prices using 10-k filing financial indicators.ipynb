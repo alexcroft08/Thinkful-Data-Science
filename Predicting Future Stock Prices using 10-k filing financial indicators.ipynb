{
 "cells": [
  {
   "cell_type": "markdown",
   "metadata": {},
   "source": [
    "# Predicting Future Stock Prices using 10-k filing financial indicators\n",
    "This project will attempt to predict the performance of stocks given financial data commonly found in the 10K filings. This solution will be both classification, ie should you buy this stock or not, as well as a regression analysis of the actual future value of the stock. Companies spend countless dollars and resources trying to gain an edge on Wall Street and this solution could provide value to companies and employees in finance across the world."
   ]
  },
  {
   "cell_type": "code",
   "execution_count": 1,
   "metadata": {
    "scrolled": true
   },
   "outputs": [],
   "source": [
    "import numpy as np\n",
    "import pandas as pd\n",
    "import matplotlib.pyplot as plt\n",
    "import seaborn as sns\n",
    "from sklearn.model_selection import train_test_split\n",
    "from sklearn.feature_selection import RFE\n",
    "import tensorflow as tf\n",
    "from tensorflow import keras"
   ]
  },
  {
   "cell_type": "markdown",
   "metadata": {},
   "source": [
    "My Data source: https://www.kaggle.com/cnic92/200-financial-indicators-of-us-stocks-20142018 contains 200+ financial indicators from the year 2018, that are commonly found in the 10-K filings each publicly traded company releases yearly, for a plethora of US stocks (4k stocks are listed in each dataset). The dataset was built leveraging Financial Modeling Prep API and pandas_datareader."
   ]
  },
  {
   "cell_type": "code",
   "execution_count": 2,
   "metadata": {
    "scrolled": false
   },
   "outputs": [
    {
     "data": {
      "text/html": [
       "<div>\n",
       "<style scoped>\n",
       "    .dataframe tbody tr th:only-of-type {\n",
       "        vertical-align: middle;\n",
       "    }\n",
       "\n",
       "    .dataframe tbody tr th {\n",
       "        vertical-align: top;\n",
       "    }\n",
       "\n",
       "    .dataframe thead th {\n",
       "        text-align: right;\n",
       "    }\n",
       "</style>\n",
       "<table border=\"1\" class=\"dataframe\">\n",
       "  <thead>\n",
       "    <tr style=\"text-align: right;\">\n",
       "      <th></th>\n",
       "      <th>Unnamed: 0</th>\n",
       "      <th>Revenue</th>\n",
       "      <th>Revenue Growth</th>\n",
       "      <th>Cost of Revenue</th>\n",
       "      <th>Gross Profit</th>\n",
       "      <th>R&amp;D Expenses</th>\n",
       "      <th>SG&amp;A Expense</th>\n",
       "      <th>Operating Expenses</th>\n",
       "      <th>Operating Income</th>\n",
       "      <th>Interest Expense</th>\n",
       "      <th>...</th>\n",
       "      <th>Inventory Growth</th>\n",
       "      <th>Asset Growth</th>\n",
       "      <th>Book Value per Share Growth</th>\n",
       "      <th>Debt Growth</th>\n",
       "      <th>R&amp;D Expense Growth</th>\n",
       "      <th>SG&amp;A Expenses Growth</th>\n",
       "      <th>Sector</th>\n",
       "      <th>2019 PRICE VAR [%]</th>\n",
       "      <th>Class</th>\n",
       "      <th>Year</th>\n",
       "    </tr>\n",
       "  </thead>\n",
       "  <tbody>\n",
       "    <tr>\n",
       "      <th>0</th>\n",
       "      <td>CMCSA</td>\n",
       "      <td>9.450700e+10</td>\n",
       "      <td>0.1115</td>\n",
       "      <td>0.000000e+00</td>\n",
       "      <td>9.450700e+10</td>\n",
       "      <td>0.000000e+00</td>\n",
       "      <td>6.482200e+10</td>\n",
       "      <td>7.549800e+10</td>\n",
       "      <td>1.900900e+10</td>\n",
       "      <td>3.542000e+09</td>\n",
       "      <td>...</td>\n",
       "      <td>0.0000</td>\n",
       "      <td>0.3426</td>\n",
       "      <td>0.0722</td>\n",
       "      <td>0.7309</td>\n",
       "      <td>0.0000</td>\n",
       "      <td>0.1308</td>\n",
       "      <td>Consumer Cyclical</td>\n",
       "      <td>32.794573</td>\n",
       "      <td>1</td>\n",
       "      <td>2018</td>\n",
       "    </tr>\n",
       "    <tr>\n",
       "      <th>1</th>\n",
       "      <td>KMI</td>\n",
       "      <td>1.414400e+10</td>\n",
       "      <td>0.0320</td>\n",
       "      <td>7.288000e+09</td>\n",
       "      <td>6.856000e+09</td>\n",
       "      <td>0.000000e+00</td>\n",
       "      <td>6.010000e+08</td>\n",
       "      <td>3.062000e+09</td>\n",
       "      <td>3.794000e+09</td>\n",
       "      <td>1.917000e+09</td>\n",
       "      <td>...</td>\n",
       "      <td>-0.0920</td>\n",
       "      <td>-0.0024</td>\n",
       "      <td>0.0076</td>\n",
       "      <td>-0.0137</td>\n",
       "      <td>0.0000</td>\n",
       "      <td>-0.1265</td>\n",
       "      <td>Energy</td>\n",
       "      <td>40.588068</td>\n",
       "      <td>1</td>\n",
       "      <td>2018</td>\n",
       "    </tr>\n",
       "    <tr>\n",
       "      <th>2</th>\n",
       "      <td>INTC</td>\n",
       "      <td>7.084800e+10</td>\n",
       "      <td>0.1289</td>\n",
       "      <td>2.711100e+10</td>\n",
       "      <td>4.373700e+10</td>\n",
       "      <td>1.354300e+10</td>\n",
       "      <td>6.750000e+09</td>\n",
       "      <td>2.042100e+10</td>\n",
       "      <td>2.331600e+10</td>\n",
       "      <td>-1.260000e+08</td>\n",
       "      <td>...</td>\n",
       "      <td>0.0387</td>\n",
       "      <td>0.0382</td>\n",
       "      <td>0.1014</td>\n",
       "      <td>-0.0169</td>\n",
       "      <td>0.0390</td>\n",
       "      <td>-0.0942</td>\n",
       "      <td>Technology</td>\n",
       "      <td>30.295514</td>\n",
       "      <td>1</td>\n",
       "      <td>2018</td>\n",
       "    </tr>\n",
       "    <tr>\n",
       "      <th>3</th>\n",
       "      <td>MU</td>\n",
       "      <td>3.039100e+10</td>\n",
       "      <td>0.4955</td>\n",
       "      <td>1.250000e+10</td>\n",
       "      <td>1.789100e+10</td>\n",
       "      <td>2.141000e+09</td>\n",
       "      <td>8.130000e+08</td>\n",
       "      <td>2.897000e+09</td>\n",
       "      <td>1.499400e+10</td>\n",
       "      <td>3.420000e+08</td>\n",
       "      <td>...</td>\n",
       "      <td>0.1511</td>\n",
       "      <td>0.2275</td>\n",
       "      <td>0.6395</td>\n",
       "      <td>-0.5841</td>\n",
       "      <td>0.1738</td>\n",
       "      <td>0.0942</td>\n",
       "      <td>Technology</td>\n",
       "      <td>64.213737</td>\n",
       "      <td>1</td>\n",
       "      <td>2018</td>\n",
       "    </tr>\n",
       "    <tr>\n",
       "      <th>4</th>\n",
       "      <td>GE</td>\n",
       "      <td>1.216150e+11</td>\n",
       "      <td>0.0285</td>\n",
       "      <td>9.546100e+10</td>\n",
       "      <td>2.615400e+10</td>\n",
       "      <td>0.000000e+00</td>\n",
       "      <td>1.811100e+10</td>\n",
       "      <td>4.071100e+10</td>\n",
       "      <td>-1.455700e+10</td>\n",
       "      <td>5.059000e+09</td>\n",
       "      <td>...</td>\n",
       "      <td>-0.2892</td>\n",
       "      <td>-0.1575</td>\n",
       "      <td>-0.4487</td>\n",
       "      <td>-0.2297</td>\n",
       "      <td>0.0000</td>\n",
       "      <td>0.0308</td>\n",
       "      <td>Industrials</td>\n",
       "      <td>44.757840</td>\n",
       "      <td>1</td>\n",
       "      <td>2018</td>\n",
       "    </tr>\n",
       "  </tbody>\n",
       "</table>\n",
       "<p>5 rows × 226 columns</p>\n",
       "</div>"
      ],
      "text/plain": [
       "  Unnamed: 0       Revenue  Revenue Growth  Cost of Revenue  Gross Profit  \\\n",
       "0      CMCSA  9.450700e+10          0.1115     0.000000e+00  9.450700e+10   \n",
       "1        KMI  1.414400e+10          0.0320     7.288000e+09  6.856000e+09   \n",
       "2       INTC  7.084800e+10          0.1289     2.711100e+10  4.373700e+10   \n",
       "3         MU  3.039100e+10          0.4955     1.250000e+10  1.789100e+10   \n",
       "4         GE  1.216150e+11          0.0285     9.546100e+10  2.615400e+10   \n",
       "\n",
       "   R&D Expenses  SG&A Expense  Operating Expenses  Operating Income  \\\n",
       "0  0.000000e+00  6.482200e+10        7.549800e+10      1.900900e+10   \n",
       "1  0.000000e+00  6.010000e+08        3.062000e+09      3.794000e+09   \n",
       "2  1.354300e+10  6.750000e+09        2.042100e+10      2.331600e+10   \n",
       "3  2.141000e+09  8.130000e+08        2.897000e+09      1.499400e+10   \n",
       "4  0.000000e+00  1.811100e+10        4.071100e+10     -1.455700e+10   \n",
       "\n",
       "   Interest Expense  ...  Inventory Growth  Asset Growth  \\\n",
       "0      3.542000e+09  ...            0.0000        0.3426   \n",
       "1      1.917000e+09  ...           -0.0920       -0.0024   \n",
       "2     -1.260000e+08  ...            0.0387        0.0382   \n",
       "3      3.420000e+08  ...            0.1511        0.2275   \n",
       "4      5.059000e+09  ...           -0.2892       -0.1575   \n",
       "\n",
       "   Book Value per Share Growth  Debt Growth  R&D Expense Growth  \\\n",
       "0                       0.0722       0.7309              0.0000   \n",
       "1                       0.0076      -0.0137              0.0000   \n",
       "2                       0.1014      -0.0169              0.0390   \n",
       "3                       0.6395      -0.5841              0.1738   \n",
       "4                      -0.4487      -0.2297              0.0000   \n",
       "\n",
       "   SG&A Expenses Growth             Sector  2019 PRICE VAR [%]  Class  Year  \n",
       "0                0.1308  Consumer Cyclical           32.794573      1  2018  \n",
       "1               -0.1265             Energy           40.588068      1  2018  \n",
       "2               -0.0942         Technology           30.295514      1  2018  \n",
       "3                0.0942         Technology           64.213737      1  2018  \n",
       "4                0.0308        Industrials           44.757840      1  2018  \n",
       "\n",
       "[5 rows x 226 columns]"
      ]
     },
     "execution_count": 2,
     "metadata": {},
     "output_type": "execute_result"
    }
   ],
   "source": [
    "data_18 = pd.read_csv('2018_Financial_Data.csv')\n",
    "data_17 = pd.read_csv('2017_Financial_Data.csv')\n",
    "data_16 = pd.read_csv('2016_Financial_Data.csv')\n",
    "data_15 = pd.read_csv('2015_Financial_Data.csv')\n",
    "data_14 = pd.read_csv('2014_Financial_Data.csv')\n",
    "\n",
    "\n",
    "data_18['Year'] = data_18.apply(lambda x: 2018, axis=1)\n",
    "data_17['Year'] = data_17.apply(lambda x: 2017, axis=1)\n",
    "data_16['Year'] = data_16.apply(lambda x: 2016, axis=1)\n",
    "data_15['Year'] = data_15.apply(lambda x: 2015, axis=1)\n",
    "data_14['Year'] = data_14.apply(lambda x: 2014, axis=1)\n",
    "\n",
    "\n",
    "data_18.head()"
   ]
  },
  {
   "cell_type": "code",
   "execution_count": 3,
   "metadata": {
    "scrolled": true
   },
   "outputs": [
    {
     "name": "stdout",
     "output_type": "stream",
     "text": [
      "<class 'pandas.core.frame.DataFrame'>\n",
      "Int64Index: 22077 entries, 0 to 3807\n",
      "Columns: 230 entries, Unnamed: 0 to 2015 PRICE VAR [%]\n",
      "dtypes: float64(226), int64(2), object(2)\n",
      "memory usage: 38.9+ MB\n"
     ]
    }
   ],
   "source": [
    "#Adding Dataframes together\n",
    "data_df = pd.DataFrame()\n",
    "data_df = pd.concat([data_18,data_17,data_16,data_15,data_14],axis=0,ignore_index=False)\n",
    "    \n",
    "data_df.info()"
   ]
  },
  {
   "cell_type": "code",
   "execution_count": 4,
   "metadata": {
    "scrolled": true
   },
   "outputs": [],
   "source": [
    "#Renaming Stock Name column\n",
    "data_df = data_df.rename(columns ={'Unnamed: 0':'Stock'})"
   ]
  },
  {
   "cell_type": "code",
   "execution_count": 5,
   "metadata": {
    "scrolled": true
   },
   "outputs": [
    {
     "name": "stdout",
     "output_type": "stream",
     "text": [
      "<class 'pandas.core.frame.DataFrame'>\n",
      "Int64Index: 22077 entries, 0 to 3807\n",
      "Columns: 189 entries, Stock to Year\n",
      "dtypes: float64(185), int64(2), object(2)\n",
      "memory usage: 32.0+ MB\n"
     ]
    }
   ],
   "source": [
    "#Delete columns if at least a quarter of the total information is null\n",
    "for column in data_df.columns:\n",
    "    if data_df[column].isnull().sum() > 5500:\n",
    "        data_df = data_df.drop([column],axis=1)\n",
    "        \n",
    "data_df.info()"
   ]
  },
  {
   "cell_type": "code",
   "execution_count": 6,
   "metadata": {
    "scrolled": false
   },
   "outputs": [
    {
     "name": "stdout",
     "output_type": "stream",
     "text": [
      "<class 'pandas.core.frame.DataFrame'>\n",
      "Int64Index: 19677 entries, 0 to 3807\n",
      "Columns: 189 entries, Stock to Year\n",
      "dtypes: float64(185), int64(2), object(2)\n",
      "memory usage: 28.5+ MB\n"
     ]
    }
   ],
   "source": [
    "#Delete rows if at least a quarter of the total information is null\n",
    "\n",
    "data_df = data_df[data_df.isnull().sum(axis=1)<47]\n",
    "data_df.info()"
   ]
  },
  {
   "cell_type": "code",
   "execution_count": 7,
   "metadata": {
    "scrolled": true
   },
   "outputs": [],
   "source": [
    "#Explore remaining missing data\n",
    "# plt.figure(figsize=(30,30))\n",
    "# plt.subplot(2,3,1)\n",
    "# sns.heatmap(data_df.iloc[:,0:30].isnull(), cbar=False)\n",
    "\n",
    "# plt.subplot(2,3,2)\n",
    "# sns.heatmap(data_df.iloc[:,31:60].isnull(), cbar=False)\n",
    "\n",
    "# plt.subplot(2,3,3)\n",
    "# sns.heatmap(data_df.iloc[:61:90].isnull(), cbar=False)\n",
    "\n",
    "# plt.subplot(2,3,4)\n",
    "# sns.heatmap(data_df.iloc[:,91:120].isnull(), cbar=False)\n",
    "\n",
    "# plt.subplot(2,3,5)\n",
    "# sns.heatmap(data_df.iloc[:,121:150].isnull(), cbar=False)\n",
    "\n",
    "# plt.subplot(2,3,6)\n",
    "# sns.heatmap(data_df.iloc[:,151:189].isnull(), cbar=False)\n"
   ]
  },
  {
   "cell_type": "code",
   "execution_count": 8,
   "metadata": {
    "scrolled": true
   },
   "outputs": [
    {
     "data": {
      "text/plain": [
       "Financial Services        3232\n",
       "Healthcare                3205\n",
       "Technology                3030\n",
       "Industrials               2647\n",
       "Consumer Cyclical         2335\n",
       "Basic Materials           1279\n",
       "Real Estate               1136\n",
       "Energy                    1099\n",
       "Consumer Defensive         856\n",
       "Utilities                  485\n",
       "Communication Services     373\n",
       "Name: Sector, dtype: int64"
      ]
     },
     "execution_count": 8,
     "metadata": {},
     "output_type": "execute_result"
    }
   ],
   "source": [
    "#What are the sectors in the dataset and the amount of stocks for each?\n",
    "data_df['Sector'].value_counts()"
   ]
  },
  {
   "cell_type": "code",
   "execution_count": 9,
   "metadata": {
    "scrolled": true
   },
   "outputs": [],
   "source": [
    "Sector_df = data_df.groupby(['Sector','Class'],as_index=False)['Stock'].count()"
   ]
  },
  {
   "cell_type": "code",
   "execution_count": 10,
   "metadata": {
    "scrolled": true
   },
   "outputs": [
    {
     "data": {
      "image/png": "[encoded data removed]",
      "text/plain": [
       "<Figure size 1296x432 with 1 Axes>"
      ]
     },
     "metadata": {
      "needs_background": "light"
     },
     "output_type": "display_data"
    }
   ],
   "source": [
    "#Whatis the distribution of stock by industry?\n",
    "sns.catplot(x='Sector',y='Stock', kind ='bar', height = 6, aspect = 3, data=Sector_df);"
   ]
  },
  {
   "cell_type": "code",
   "execution_count": 11,
   "metadata": {
    "scrolled": true
   },
   "outputs": [
    {
     "data": {
      "image/png": "[encoded data removed]",
      "text/plain": [
       "<Figure size 1338.38x432 with 1 Axes>"
      ]
     },
     "metadata": {
      "needs_background": "light"
     },
     "output_type": "display_data"
    }
   ],
   "source": [
    "#Which industries have more suggested buys?\n",
    "sns.catplot(x=\"Sector\", y=\"Stock\", hue=\"Class\", kind=\"bar\", height = 6, aspect = 3,data=Sector_df);"
   ]
  },
  {
   "cell_type": "markdown",
   "metadata": {},
   "source": [
    "It's been a good 5 years for most industries. Most sectors have more suggested buys (Class 1, orange columns), versus do not buy (Class 0, blue columns) for their stocks."
   ]
  },
  {
   "cell_type": "code",
   "execution_count": 12,
   "metadata": {
    "scrolled": false
   },
   "outputs": [
    {
     "name": "stderr",
     "output_type": "stream",
     "text": [
      "Using TensorFlow backend.\n"
     ]
    },
    {
     "name": "stdout",
     "output_type": "stream",
     "text": [
      "Runtime is 109.19116592407227 and the shape of the output is (19677, 185).\n"
     ]
    }
   ],
   "source": [
    "#Use Decision Tree Regressor Imputation to replace the null values\n",
    "import time\n",
    "from fancyimpute import IterativeImputer\n",
    "from sklearn.tree import DecisionTreeRegressor\n",
    "#Time the imputation algorithm\n",
    "start = time.time()\n",
    "MICE_imputer = IterativeImputer(estimator=DecisionTreeRegressor(max_features='sqrt', \n",
    "                                                random_state=0))\n",
    "df_numeric = data_df.select_dtypes(include=[np.float])\n",
    "data_MICE = df_numeric.copy(deep=True)\n",
    "data_MICE.iloc[:, :] = MICE_imputer.fit_transform(data_MICE)\n",
    "end = time.time()\n",
    "print('Runtime is {} and the shape of the output is {}.'.format((end - start),data_MICE.shape))"
   ]
  },
  {
   "cell_type": "code",
   "execution_count": 13,
   "metadata": {
    "scrolled": true
   },
   "outputs": [],
   "source": [
    "#Add target\n",
    "data_MICE['Class'] = data_df['Class']"
   ]
  },
  {
   "cell_type": "code",
   "execution_count": 14,
   "metadata": {
    "scrolled": true
   },
   "outputs": [
    {
     "name": "stdout",
     "output_type": "stream",
     "text": [
      "<class 'pandas.core.frame.DataFrame'>\n",
      "Int64Index: 19677 entries, 0 to 3807\n",
      "Columns: 186 entries, Revenue to Class\n",
      "dtypes: float64(185), int64(1)\n",
      "memory usage: 28.1 MB\n"
     ]
    }
   ],
   "source": [
    "#Rename\n",
    "data_df = data_MICE\n",
    "data_df.info()"
   ]
  },
  {
   "cell_type": "code",
   "execution_count": 15,
   "metadata": {
    "scrolled": true
   },
   "outputs": [
    {
     "name": "stdout",
     "output_type": "stream",
     "text": [
      "No null values left!\n"
     ]
    }
   ],
   "source": [
    "#Double check no null values left\n",
    "for column in data_df.columns:\n",
    "    if data_df[column].isnull().sum()>0:\n",
    "        print(column)\n",
    "    else :\n",
    "        continue\n",
    "print('No null values left!')\n"
   ]
  },
  {
   "cell_type": "code",
   "execution_count": 16,
   "metadata": {
    "scrolled": true
   },
   "outputs": [
    {
     "data": {
      "text/plain": [
       "Revenue                        2834\n",
       "Revenue Growth                 2885\n",
       "Cost of Revenue                2905\n",
       "Gross Profit                   2716\n",
       "R&D Expenses                   3495\n",
       "                               ... \n",
       "Book Value per Share Growth    3619\n",
       "Debt Growth                    4065\n",
       "R&D Expense Growth             7209\n",
       "SG&A Expenses Growth           2305\n",
       "Class                             0\n",
       "Length: 186, dtype: int64"
      ]
     },
     "execution_count": 16,
     "metadata": {},
     "output_type": "execute_result"
    }
   ],
   "source": [
    "#Identify outliers\n",
    "Q1 = data_df.quantile(0.25)\n",
    "Q3 = data_df.quantile(0.75)\n",
    "IQR = Q3 - Q1\n",
    "\n",
    "((data_df < (Q1 - 1.5 * IQR)) | (data_df > (Q3 + 1.5 * IQR))).sum()"
   ]
  },
  {
   "cell_type": "code",
   "execution_count": 17,
   "metadata": {
    "scrolled": false
   },
   "outputs": [
    {
     "data": {
      "text/plain": [
       "Revenue                           0\n",
       "Revenue Growth                 2885\n",
       "Cost of Revenue                   0\n",
       "Gross Profit                      0\n",
       "R&D Expenses                   3492\n",
       "                               ... \n",
       "Book Value per Share Growth    3619\n",
       "Debt Growth                    4065\n",
       "R&D Expense Growth             7209\n",
       "SG&A Expenses Growth           2305\n",
       "Class                             0\n",
       "Length: 186, dtype: int64"
      ]
     },
     "execution_count": 17,
     "metadata": {},
     "output_type": "execute_result"
    }
   ],
   "source": [
    "from scipy.stats import mstats\n",
    "\n",
    "#Winsorize the data to correct outliers that are part of the 95%\n",
    "def WinsorizeStats(data):\n",
    "    out = mstats.winsorize(data, limits=[0.05, 0.05])\n",
    "    \n",
    "    return out\n",
    "\n",
    "data_df = pd.DataFrame(data=WinsorizeStats(data_df), columns=data_MICE.columns)\n",
    "\n",
    "((data_df < (Q1 - 1.5 * IQR)) | (data_df > (Q3 + 1.5 * IQR))).sum()"
   ]
  },
  {
   "cell_type": "code",
   "execution_count": 18,
   "metadata": {
    "scrolled": true
   },
   "outputs": [
    {
     "name": "stdout",
     "output_type": "stream",
     "text": [
      "56\n"
     ]
    }
   ],
   "source": [
    "#Identify features that are highly correlated\n",
    "correlated_features = set()\n",
    "correlation_matrix = data_df.corr()\n",
    "\n",
    "for i in range(len(correlation_matrix.columns)):\n",
    "     for j in range(i):\n",
    "        if abs(correlation_matrix.iloc[i, j]) > 0.9:\n",
    "            colname = correlation_matrix.columns[i]\n",
    "            correlated_features.add(colname)\n",
    "print(len(correlated_features))\n"
   ]
  },
  {
   "cell_type": "code",
   "execution_count": 19,
   "metadata": {
    "scrolled": true
   },
   "outputs": [
    {
     "name": "stdout",
     "output_type": "stream",
     "text": [
      "<class 'pandas.core.frame.DataFrame'>\n",
      "RangeIndex: 19677 entries, 0 to 19676\n",
      "Columns: 130 entries, Revenue to Class\n",
      "dtypes: float64(130)\n",
      "memory usage: 19.5 MB\n"
     ]
    }
   ],
   "source": [
    "#Drop the highly correlated features\n",
    "data_df = data_df.drop(correlated_features,axis=1)\n",
    "\n",
    "data_df.info()\n"
   ]
  },
  {
   "cell_type": "code",
   "execution_count": 20,
   "metadata": {
    "scrolled": false
   },
   "outputs": [
    {
     "name": "stdout",
     "output_type": "stream",
     "text": [
      "The model is suggesting using 55 features\n"
     ]
    }
   ],
   "source": [
    "#Identify best features using Recursive Feature Elimination\n",
    "from sklearn.ensemble import RandomForestClassifier\n",
    "from sklearn.feature_selection import RFECV\n",
    "from sklearn.model_selection import StratifiedKFold\n",
    "data1_df = data_df.copy()\n",
    "X = data1_df.drop('Class', axis=1)\n",
    "target = data1_df['Class']\n",
    "\n",
    "rfc = RandomForestClassifier(random_state=101,criterion='entropy')\n",
    "rfecv = RFECV(estimator=rfc, step=2, cv=StratifiedKFold(2), scoring='accuracy')\n",
    "rfecv.fit(X, target)\n",
    "print('The model is suggesting using {} features'.format(rfecv.n_features_))"
   ]
  },
  {
   "cell_type": "code",
   "execution_count": 21,
   "metadata": {
    "scrolled": false
   },
   "outputs": [
    {
     "name": "stdout",
     "output_type": "stream",
     "text": [
      "<class 'pandas.core.frame.DataFrame'>\n",
      "RangeIndex: 19677 entries, 0 to 19676\n",
      "Data columns (total 56 columns):\n",
      " #   Column                                     Non-Null Count  Dtype  \n",
      "---  ------                                     --------------  -----  \n",
      " 0   Revenue Growth                             19677 non-null  float64\n",
      " 1   EPS                                        19677 non-null  float64\n",
      " 2   Weighted Average Shs Out                   19677 non-null  float64\n",
      " 3   EBITDA Margin                              19677 non-null  float64\n",
      " 4   EBIT Margin                                19677 non-null  float64\n",
      " 5   Profit Margin                              19677 non-null  float64\n",
      " 6   Cash and cash equivalents                  19677 non-null  float64\n",
      " 7   Other Liabilities                          19677 non-null  float64\n",
      " 8   Depreciation & Amortization                19677 non-null  float64\n",
      " 9   Stock-based compensation                   19677 non-null  float64\n",
      " 10  Net Cash/Marketcap                         19677 non-null  float64\n",
      " 11  priceBookValueRatio                        19677 non-null  float64\n",
      " 12  priceToSalesRatio                          19677 non-null  float64\n",
      " 13  priceToOperatingCashFlowsRatio             19677 non-null  float64\n",
      " 14  priceSalesRatio                            19677 non-null  float64\n",
      " 15  priceFairValue                             19677 non-null  float64\n",
      " 16  grossProfitMargin                          19677 non-null  float64\n",
      " 17  payablesTurnover                           19677 non-null  float64\n",
      " 18  fixedAssetTurnover                         19677 non-null  float64\n",
      " 19  assetTurnover                              19677 non-null  float64\n",
      " 20  currentRatio                               19677 non-null  float64\n",
      " 21  quickRatio                                 19677 non-null  float64\n",
      " 22  cashRatio                                  19677 non-null  float64\n",
      " 23  daysOfInventoryOutstanding                 19677 non-null  float64\n",
      " 24  daysOfPayablesOutstanding                  19677 non-null  float64\n",
      " 25  operatingCashFlowPerShare                  19677 non-null  float64\n",
      " 26  freeCashFlowPerShare                       19677 non-null  float64\n",
      " 27  cashPerShare                               19677 non-null  float64\n",
      " 28  operatingCashFlowSalesRatio                19677 non-null  float64\n",
      " 29  capitalExpenditureCoverageRatios           19677 non-null  float64\n",
      " 30  dividendpaidAndCapexCoverageRatios         19677 non-null  float64\n",
      " 31  Book Value per Share                       19677 non-null  float64\n",
      " 32  Shareholders Equity per Share              19677 non-null  float64\n",
      " 33  EV to Sales                                19677 non-null  float64\n",
      " 34  EV to Free cash flow                       19677 non-null  float64\n",
      " 35  Earnings Yield                             19677 non-null  float64\n",
      " 36  Free Cash Flow Yield                       19677 non-null  float64\n",
      " 37  Income Quality                             19677 non-null  float64\n",
      " 38  Capex to Depreciation                      19677 non-null  float64\n",
      " 39  Capex per Share                            19677 non-null  float64\n",
      " 40  EBIT Growth                                19677 non-null  float64\n",
      " 41  Operating Income Growth                    19677 non-null  float64\n",
      " 42  Net Income Growth                          19677 non-null  float64\n",
      " 43  EPS Growth                                 19677 non-null  float64\n",
      " 44  EPS Diluted Growth                         19677 non-null  float64\n",
      " 45  Weighted Average Shares Growth             19677 non-null  float64\n",
      " 46  Weighted Average Shares Diluted Growth     19677 non-null  float64\n",
      " 47  Operating Cash Flow growth                 19677 non-null  float64\n",
      " 48  Free Cash Flow growth                      19677 non-null  float64\n",
      " 49  3Y Revenue Growth (per Share)              19677 non-null  float64\n",
      " 50  3Y Shareholders Equity Growth (per Share)  19677 non-null  float64\n",
      " 51  Receivables growth                         19677 non-null  float64\n",
      " 52  Asset Growth                               19677 non-null  float64\n",
      " 53  Book Value per Share Growth                19677 non-null  float64\n",
      " 54  Debt Growth                                19677 non-null  float64\n",
      " 55  Class                                      19677 non-null  float64\n",
      "dtypes: float64(56)\n",
      "memory usage: 8.4 MB\n"
     ]
    }
   ],
   "source": [
    "#Removing features that have not been suggested by the RFECV\n",
    "cols = data_df.columns\n",
    "rankings_df = pd.DataFrame(list(zip(cols,rfecv.ranking_)),columns=['Column','Rank'])\n",
    "rank1_df = rankings_df[rankings_df['Rank']==1]\n",
    "\n",
    "features = rank1_df['Column'].tolist()\n",
    "features.append('Class')\n",
    "\n",
    "for col in data_df.columns:\n",
    "    if col not in features:\n",
    "        data_df = data_df.drop(col,axis=1)\n",
    "\n",
    "data_df.info()"
   ]
  },
  {
   "cell_type": "code",
   "execution_count": 22,
   "metadata": {
    "scrolled": true
   },
   "outputs": [
    {
     "name": "stdout",
     "output_type": "stream",
     "text": [
      "(15741, 55) (15741,)\n",
      "(3936, 55) (3936,)\n"
     ]
    }
   ],
   "source": [
    "#Split X and Y\n",
    "target = data_df['Class']\n",
    "x = data_df.drop(['Class'],axis=1)\n",
    "\n",
    "# create training and testing vars\n",
    "X_train, X_test, y_train, y_test = train_test_split(x, target, test_size=0.2)\n",
    "print (X_train.shape, y_train.shape)\n",
    "print (X_test.shape, y_test.shape)"
   ]
  },
  {
   "cell_type": "code",
   "execution_count": 28,
   "metadata": {
    "scrolled": true
   },
   "outputs": [
    {
     "data": {
      "text/plain": [
       "RandomForestClassifier(bootstrap=True, ccp_alpha=0.0, class_weight=None,\n",
       "                       criterion='gini', max_depth=None, max_features='auto',\n",
       "                       max_leaf_nodes=None, max_samples=None,\n",
       "                       min_impurity_decrease=0.0, min_impurity_split=None,\n",
       "                       min_samples_leaf=1, min_samples_split=2,\n",
       "                       min_weight_fraction_leaf=0.0, n_estimators=1100,\n",
       "                       n_jobs=None, oob_score=False, random_state=42, verbose=0,\n",
       "                       warm_start=False)"
      ]
     },
     "execution_count": 28,
     "metadata": {},
     "output_type": "execute_result"
    }
   ],
   "source": [
    "#Random Forest Classification\n",
    "clf = RandomForestClassifier(n_estimators = 1100,random_state=42)\n",
    "clf.fit(X_train, y_train)"
   ]
  },
  {
   "cell_type": "code",
   "execution_count": 29,
   "metadata": {
    "scrolled": true
   },
   "outputs": [],
   "source": [
    "clf_predict = clf.predict(X_test)"
   ]
  },
  {
   "cell_type": "code",
   "execution_count": 30,
   "metadata": {
    "scrolled": true
   },
   "outputs": [
    {
     "name": "stdout",
     "output_type": "stream",
     "text": [
      "=== Confusion Matrix ===\n",
      "[[ 870  915]\n",
      " [ 590 1561]]\n",
      "\n",
      "\n",
      "=== Classification Report ===\n",
      "              precision    recall  f1-score   support\n",
      "\n",
      "         0.0       0.60      0.49      0.54      1785\n",
      "         1.0       0.63      0.73      0.67      2151\n",
      "\n",
      "    accuracy                           0.62      3936\n",
      "   macro avg       0.61      0.61      0.61      3936\n",
      "weighted avg       0.61      0.62      0.61      3936\n",
      "\n",
      "\n",
      "\n",
      "=== All AUC Scores ===\n",
      "[0.64430894 0.62855691 0.52794715 0.54369919 0.48577236 0.61229675\n",
      " 0.57520325 0.58515506 0.58566345 0.56888663]\n",
      "\n",
      "\n",
      "=== Mean AUC Score ===\n",
      "Mean AUC Score - Random Forest:  0.5757489687568457\n"
     ]
    }
   ],
   "source": [
    "#Random Forest Results\n",
    "from sklearn.model_selection import cross_val_score\n",
    "from sklearn.metrics import classification_report, confusion_matrix\n",
    "clf_cv_score = cross_val_score(clf, x, target, cv=10)\n",
    "\n",
    "print(\"=== Confusion Matrix ===\")\n",
    "print(confusion_matrix(y_test, clf_predict))\n",
    "print('\\n')\n",
    "print(\"=== Classification Report ===\")\n",
    "print(classification_report(y_test, clf_predict))\n",
    "print('\\n')\n",
    "print(\"=== All AUC Scores ===\")\n",
    "print(clf_cv_score)\n",
    "print('\\n')\n",
    "print(\"=== Mean AUC Score ===\")\n",
    "print(\"Mean AUC Score - Random Forest: \", clf_cv_score.mean())"
   ]
  },
  {
   "cell_type": "code",
   "execution_count": 31,
   "metadata": {
    "scrolled": true
   },
   "outputs": [
    {
     "name": "stdout",
     "output_type": "stream",
     "text": [
      "Fitting 5 folds for each of 10 candidates, totalling 50 fits\n"
     ]
    },
    {
     "name": "stderr",
     "output_type": "stream",
     "text": [
      "[Parallel(n_jobs=-1)]: Using backend LokyBackend with 8 concurrent workers.\n",
      "/anaconda3/lib/python3.6/site-packages/joblib/externals/loky/process_executor.py:706: UserWarning: A worker stopped while some jobs were given to the executor. This can be caused by a too short worker timeout or by a memory leak.\n",
      "  \"timeout or by a memory leak.\", UserWarning\n",
      "[Parallel(n_jobs=-1)]: Done  25 tasks      | elapsed:  5.7min\n",
      "[Parallel(n_jobs=-1)]: Done  50 out of  50 | elapsed: 15.2min finished\n"
     ]
    },
    {
     "name": "stdout",
     "output_type": "stream",
     "text": [
      "{'n_estimators': 1550, 'max_features': 'auto', 'max_depth': 200}\n"
     ]
    }
   ],
   "source": [
    "from sklearn.model_selection import RandomizedSearchCV\n",
    "# umber of trees in random forest\n",
    "n_estimators = [int(z) for z in np.linspace(start = 200, stop = 2000, num = 5)]\n",
    "#number of features at every split\n",
    "max_features = ['auto','sqrt']\n",
    "\n",
    "#max depth\n",
    "max_depth = [int(z) for z in np.linspace(100, 500, num = 5)]\n",
    "max_depth.append(None)\n",
    "#create random grid\n",
    "random_grid = {\n",
    " 'n_estimators': n_estimators,\n",
    " 'max_features': max_features,\n",
    " 'max_depth': max_depth\n",
    " }\n",
    "#Random search of parameters\n",
    "clf_random = RandomizedSearchCV(estimator = clf, param_distributions = random_grid, \n",
    "            n_iter = 10, cv = 5, verbose=2, random_state=42, n_jobs = -1)\n",
    "#Fit the model\n",
    "clf_random.fit(X_train, y_train)\n",
    "#print results\n",
    "print(clf_random.best_params_)"
   ]
  },
  {
   "cell_type": "code",
   "execution_count": 32,
   "metadata": {
    "scrolled": true
   },
   "outputs": [],
   "source": [
    "#Random Forest with optimal parameters\n",
    "clf_1 = RandomForestClassifier(n_jobs=2, n_estimators = 1550, max_features='auto',random_state=0,max_depth = 200)\n",
    "clf_1.fit(X_train, y_train)\n",
    "clf_1predict = clf_1.predict(X_test)"
   ]
  },
  {
   "cell_type": "code",
   "execution_count": 33,
   "metadata": {
    "scrolled": true
   },
   "outputs": [
    {
     "name": "stdout",
     "output_type": "stream",
     "text": [
      "=== Confusion Matrix ===\n",
      "[[ 872  913]\n",
      " [ 582 1569]]\n",
      "\n",
      "\n",
      "=== Classification Report ===\n",
      "              precision    recall  f1-score   support\n",
      "\n",
      "         0.0       0.60      0.49      0.54      1785\n",
      "         1.0       0.63      0.73      0.68      2151\n",
      "\n",
      "    accuracy                           0.62      3936\n",
      "   macro avg       0.62      0.61      0.61      3936\n",
      "weighted avg       0.62      0.62      0.61      3936\n",
      "\n",
      "\n",
      "\n",
      "=== All AUC Scores ===\n",
      "[0.63004128 0.6270648  0.61340534 0.61689962 0.61499365]\n",
      "\n",
      "\n",
      "=== Mean AUC Score ===\n",
      "Mean AUC Score - Random Forest:  0.6204809376567378\n"
     ]
    }
   ],
   "source": [
    "#Random Forest results after using optimal parameters\n",
    "from sklearn.model_selection import cross_val_score\n",
    "from sklearn.metrics import classification_report, confusion_matrix\n",
    "clf_1_cv_score = cross_val_score(clf_1, X_train, y_train, cv=5)\n",
    "\n",
    "print(\"=== Confusion Matrix ===\")\n",
    "print(confusion_matrix(y_test, clf_1predict))\n",
    "print('\\n')\n",
    "print(\"=== Classification Report ===\")\n",
    "print(classification_report(y_test, clf_1predict))\n",
    "print('\\n')\n",
    "print(\"=== All AUC Scores ===\")\n",
    "print(clf_1_cv_score)\n",
    "print('\\n')\n",
    "print(\"=== Mean AUC Score ===\")\n",
    "print(\"Mean AUC Score - Random Forest: \", clf_1_cv_score.mean())"
   ]
  },
  {
   "cell_type": "code",
   "execution_count": 34,
   "metadata": {
    "scrolled": true
   },
   "outputs": [],
   "source": [
    "#Stochastic Gradient Descent (SGD) Model\n",
    "from sklearn.linear_model import SGDClassifier\n",
    "\n",
    "clf = SGDClassifier(loss=\"hinge\", penalty=\"l2\", max_iter=1000)\n",
    "clf.fit(X_train, y_train)\n",
    "predictions = clf.predict(X_test)\n"
   ]
  },
  {
   "cell_type": "code",
   "execution_count": 35,
   "metadata": {},
   "outputs": [
    {
     "name": "stdout",
     "output_type": "stream",
     "text": [
      "0.5411585365853658\n"
     ]
    }
   ],
   "source": [
    "#Stochastic Gradient Descent (SGD) Results\n",
    "from sklearn import metrics\n",
    "y_train_pred = clf.predict(X_train)\n",
    "print (metrics.accuracy_score(y_test, predictions))"
   ]
  },
  {
   "cell_type": "code",
   "execution_count": 36,
   "metadata": {
    "scrolled": true
   },
   "outputs": [],
   "source": [
    "#Tensorflow Model\n",
    "import tensorflow as tf\n",
    "from tensorflow import keras\n",
    "from tensorflow import feature_column\n",
    "from tensorflow.keras import layers\n",
    "# Import various componenets for model building\n",
    "from keras.models import Sequential\n",
    "from keras.layers import Dense, Dropout, Flatten, Conv2D, MaxPooling2D\n",
    "from keras.layers import LSTM, Input, TimeDistributed\n",
    "from keras.models import Model\n",
    "from keras.optimizers import RMSprop\n",
    "\n"
   ]
  },
  {
   "cell_type": "code",
   "execution_count": 39,
   "metadata": {},
   "outputs": [
    {
     "name": "stdout",
     "output_type": "stream",
     "text": [
      "X_train shape is (15741, 55) and y_train shape is (15741, 1).\n"
     ]
    }
   ],
   "source": [
    "#Prep the data for tensorflow model\n",
    "from sklearn import preprocessing\n",
    "\n",
    "#Normalize\n",
    "x = data_df.values #returns a numpy array\n",
    "min_max_scaler = preprocessing.MinMaxScaler()\n",
    "x_scaled = min_max_scaler.fit_transform(x)\n",
    "scaled_df = pd.DataFrame(x_scaled)\n",
    "x = scaled_df.drop(len(scaled_df.columns)-1,axis=1)\n",
    "#Test and Train\n",
    "X_train, X_test, y_train, y_test = train_test_split(x, target, test_size=0.2)\n",
    "X_train = X_train.values\n",
    "X_test = X_test.values\n",
    "y_train = y_train.values\n",
    "y_test = y_test.values\n",
    "y_train = y_train.reshape(15741,1)\n",
    "#Check Shape\n",
    "print('X_train shape is {} and y_train shape is {}.'.format(X_train.shape,y_train.shape))\n"
   ]
  },
  {
   "cell_type": "code",
   "execution_count": 47,
   "metadata": {
    "scrolled": true
   },
   "outputs": [],
   "source": [
    "#Build the model using a learning rate of 0.0008. \n",
    "#This was selected as an optimal value via trial and error.\n",
    "adam = tf.optimizers.Adam(0.0008)\n",
    "\n",
    "def get_compiled_model():\n",
    "    model = tf.keras.Sequential([\n",
    "    tf.keras.layers.Flatten(),\n",
    "    tf.keras.layers.Dense(64, activation='relu',input_shape=(102,1)),\n",
    "    tf.keras.layers.Dropout(0.1),\n",
    "    tf.keras.layers.Dense(16, activation='relu'),\n",
    "    tf.keras.layers.Dense(1,activation='sigmoid')\n",
    "  ])\n",
    "    \n",
    "             \n",
    "    model.compile(optimizer=adam,\n",
    "                loss=tf.keras.losses.BinaryCrossentropy(from_logits=True),\n",
    "                metrics=['accuracy'])\n",
    "    return model"
   ]
  },
  {
   "cell_type": "code",
   "execution_count": 48,
   "metadata": {},
   "outputs": [
    {
     "name": "stdout",
     "output_type": "stream",
     "text": [
      "Train on 15741 samples\n",
      "Epoch 1/8\n",
      "15741/15741 [==============================] - 3s 178us/sample - loss: 0.6853 - accuracy: 0.4702\n",
      "Epoch 2/8\n",
      "15741/15741 [==============================] - 2s 121us/sample - loss: 0.6811 - accuracy: 0.5114\n",
      "Epoch 3/8\n",
      "15741/15741 [==============================] - 2s 120us/sample - loss: 0.6803 - accuracy: 0.5169\n",
      "Epoch 4/8\n",
      "15741/15741 [==============================] - 2s 120us/sample - loss: 0.6792 - accuracy: 0.5193\n",
      "Epoch 5/8\n",
      "15741/15741 [==============================] - 2s 121us/sample - loss: 0.6787 - accuracy: 0.5179\n",
      "Epoch 6/8\n",
      "15741/15741 [==============================] - 2s 122us/sample - loss: 0.6783 - accuracy: 0.5222\n",
      "Epoch 7/8\n",
      "15741/15741 [==============================] - 2s 125us/sample - loss: 0.6779 - accuracy: 0.5239\n",
      "Epoch 8/8\n",
      "15741/15741 [==============================] - 2s 126us/sample - loss: 0.6775 - accuracy: 0.5190\n"
     ]
    },
    {
     "data": {
      "text/plain": [
       "<tensorflow.python.keras.callbacks.History at 0x1aec6ca6d8>"
      ]
     },
     "execution_count": 48,
     "metadata": {},
     "output_type": "execute_result"
    }
   ],
   "source": [
    "#Run the model\n",
    "model = get_compiled_model()\n",
    "model.fit(X_train,y_train,epochs=8)\n"
   ]
  },
  {
   "cell_type": "code",
   "execution_count": 49,
   "metadata": {
    "scrolled": true
   },
   "outputs": [
    {
     "name": "stdout",
     "output_type": "stream",
     "text": [
      "Test Loss: 0.6778353181311755, Test Accuracy: 0.5406504273414612,\n"
     ]
    }
   ],
   "source": [
    "#Performance check\n",
    "score = model.evaluate(X_test, y_test, verbose=0)\n",
    "print('Test Loss: {}, Test Accuracy: {},'.format(score[0],score[1]))"
   ]
  },
  {
   "cell_type": "markdown",
   "metadata": {},
   "source": [
    "After evaluating each model, the Random Forest Model after performing a Random Search to locate optimal parameters was the best model in this scenario. I believe that the size of the data set (22,000 rows) hindered the performance of the Tensorflow NN, and given a much larger dataset it would eventually outperform the RF. "
   ]
  },
  {
   "cell_type": "markdown",
   "metadata": {},
   "source": [
    "Companies are spending countless dollars and employee hours trying to predict stock performance, and maybe attempting to build a model that could do this at a high rate on a laptop was a bit naive. However, I believe the RF accuracy of about 63% could still be very valuable to the average trader that doesn't have access to large computing power, and could be used as a way to alert a trader to potential buys that would be worth looking into. In production a person could imput the selected features in the model that are freely available online and then use it as a starting point for stocks they would like to research further. Maintaining the model would be relatively easy to do, all you would need to do is gather the input data each year when the "
   ]
  },
  {
   "cell_type": "code",
   "execution_count": null,
   "metadata": {},
   "outputs": [],
   "source": []
  }
 ],
 "metadata": {
  "kernelspec": {
   "display_name": "Python 3",
   "language": "python",
   "name": "python3"
  },
  "language_info": {
   "codemirror_mode": {
    "name": "ipython",
    "version": 3
   },
   "file_extension": ".py",
   "mimetype": "text/x-python",
   "name": "python",
   "nbconvert_exporter": "python",
   "pygments_lexer": "ipython3",
   "version": "3.6.10"
  }
 },
 "nbformat": 4,
 "nbformat_minor": 4
}
