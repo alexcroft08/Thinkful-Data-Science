{
 "cells": [
  {
   "cell_type": "markdown",
   "metadata": {},
   "source": [
    "The amount a person will spend on a given site in the next 24 months.\n",
    "What color car someone is going to buy.\n",
    "How many children a family will have.\n",
    "If someone will sign up for a service.\n",
    "The number of times someone will get sick in a year.\n",
    "The probability someone will get sick in the next month.\n",
    "Which medicine will work best for a given patient."
   ]
  },
  {
   "cell_type": "markdown",
   "metadata": {},
   "source": [
    " Amount a person will spend on a given site: for this example I would use regression as the variable is continuous and a ratio (you cannot spend less than $0.)"
   ]
  },
  {
   "cell_type": "markdown",
   "metadata": {},
   "source": [
    " What color car: for this example I would use classification, as the variable is categorical and have no relationships with each other."
   ]
  },
  {
   "cell_type": "markdown",
   "metadata": {},
   "source": [
    "How many children: classification, categorical and fairly finite in amount of children a family can have."
   ]
  },
  {
   "cell_type": "markdown",
   "metadata": {},
   "source": [
    "If someone will sign up: classification, categorical and finite choices."
   ]
  },
  {
   "cell_type": "markdown",
   "metadata": {},
   "source": [
    "Number of times somebody will get sick: for this one I guess you could use either but I think classification makes the most sense as the number , variable is not continuous but have relationships with each other. "
   ]
  },
  {
   "cell_type": "markdown",
   "metadata": {},
   "source": [
    "Probability somebody will get sick: regression, variable is continuous"
   ]
  },
  {
   "cell_type": "markdown",
   "metadata": {},
   "source": [
    "Which medicine works: classification, variable is categorical and has no relationships with each other."
   ]
  },
  {
   "cell_type": "code",
   "execution_count": null,
   "metadata": {},
   "outputs": [],
   "source": []
  }
 ],
 "metadata": {
  "kernelspec": {
   "display_name": "Python 3",
   "language": "python",
   "name": "python3"
  },
  "language_info": {
   "codemirror_mode": {
    "name": "ipython",
    "version": 3
   },
   "file_extension": ".py",
   "mimetype": "text/x-python",
   "name": "python",
   "nbconvert_exporter": "python",
   "pygments_lexer": "ipython3",
   "version": "3.6.4"
  }
 },
 "nbformat": 4,
 "nbformat_minor": 2
}
