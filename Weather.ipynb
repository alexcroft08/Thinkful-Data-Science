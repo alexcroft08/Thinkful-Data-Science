{
 "cells": [
  {
   "cell_type": "code",
   "execution_count": 1,
   "metadata": {},
   "outputs": [],
   "source": [
    "import numpy as np\n",
    "import pandas as pd\n",
    "from sklearn import linear_model\n",
    "import matplotlib.pyplot as plt\n",
    "from sqlalchemy import create_engine\n",
    "import seaborn as sns\n",
    "\n",
    "import warnings\n",
    "warnings.filterwarnings('ignore')\n",
    "\n",
    "postgres_user = 'dsbc_student'\n",
    "postgres_pw = '7*.8G9QH21'\n",
    "postgres_host = '142.93.121.174'\n",
    "postgres_port = '5432'\n",
    "postgres_db = 'weatherinszeged'\n",
    "\n",
    "engine = create_engine('postgresql://{}:{}@{}:{}/{}'.format(\n",
    "    postgres_user, postgres_pw, postgres_host, postgres_port, postgres_db))\n",
    "weather_df = pd.read_sql_query('select * from weatherinszeged',con=engine)\n",
    "\n",
    "# no need for an open connection, as we're only doing a single query\n",
    "engine.dispose()"
   ]
  },
  {
   "cell_type": "code",
   "execution_count": 2,
   "metadata": {},
   "outputs": [
    {
     "data": {
      "text/html": [
       "<div>\n",
       "<style scoped>\n",
       "    .dataframe tbody tr th:only-of-type {\n",
       "        vertical-align: middle;\n",
       "    }\n",
       "\n",
       "    .dataframe tbody tr th {\n",
       "        vertical-align: top;\n",
       "    }\n",
       "\n",
       "    .dataframe thead th {\n",
       "        text-align: right;\n",
       "    }\n",
       "</style>\n",
       "<table border=\"1\" class=\"dataframe\">\n",
       "  <thead>\n",
       "    <tr style=\"text-align: right;\">\n",
       "      <th></th>\n",
       "      <th>date</th>\n",
       "      <th>summary</th>\n",
       "      <th>preciptype</th>\n",
       "      <th>temperature</th>\n",
       "      <th>apparenttemperature</th>\n",
       "      <th>humidity</th>\n",
       "      <th>windspeed</th>\n",
       "      <th>windbearing</th>\n",
       "      <th>visibility</th>\n",
       "      <th>loudcover</th>\n",
       "      <th>pressure</th>\n",
       "      <th>dailysummary</th>\n",
       "    </tr>\n",
       "  </thead>\n",
       "  <tbody>\n",
       "    <tr>\n",
       "      <th>0</th>\n",
       "      <td>2006-03-31 22:00:00+00:00</td>\n",
       "      <td>Partly Cloudy</td>\n",
       "      <td>rain</td>\n",
       "      <td>9.472222</td>\n",
       "      <td>7.388889</td>\n",
       "      <td>0.89</td>\n",
       "      <td>14.1197</td>\n",
       "      <td>251.0</td>\n",
       "      <td>15.8263</td>\n",
       "      <td>0.0</td>\n",
       "      <td>1015.13</td>\n",
       "      <td>Partly cloudy throughout the day.</td>\n",
       "    </tr>\n",
       "    <tr>\n",
       "      <th>1</th>\n",
       "      <td>2006-03-31 23:00:00+00:00</td>\n",
       "      <td>Partly Cloudy</td>\n",
       "      <td>rain</td>\n",
       "      <td>9.355556</td>\n",
       "      <td>7.227778</td>\n",
       "      <td>0.86</td>\n",
       "      <td>14.2646</td>\n",
       "      <td>259.0</td>\n",
       "      <td>15.8263</td>\n",
       "      <td>0.0</td>\n",
       "      <td>1015.63</td>\n",
       "      <td>Partly cloudy throughout the day.</td>\n",
       "    </tr>\n",
       "    <tr>\n",
       "      <th>2</th>\n",
       "      <td>2006-04-01 00:00:00+00:00</td>\n",
       "      <td>Mostly Cloudy</td>\n",
       "      <td>rain</td>\n",
       "      <td>9.377778</td>\n",
       "      <td>9.377778</td>\n",
       "      <td>0.89</td>\n",
       "      <td>3.9284</td>\n",
       "      <td>204.0</td>\n",
       "      <td>14.9569</td>\n",
       "      <td>0.0</td>\n",
       "      <td>1015.94</td>\n",
       "      <td>Partly cloudy throughout the day.</td>\n",
       "    </tr>\n",
       "    <tr>\n",
       "      <th>3</th>\n",
       "      <td>2006-04-01 01:00:00+00:00</td>\n",
       "      <td>Partly Cloudy</td>\n",
       "      <td>rain</td>\n",
       "      <td>8.288889</td>\n",
       "      <td>5.944444</td>\n",
       "      <td>0.83</td>\n",
       "      <td>14.1036</td>\n",
       "      <td>269.0</td>\n",
       "      <td>15.8263</td>\n",
       "      <td>0.0</td>\n",
       "      <td>1016.41</td>\n",
       "      <td>Partly cloudy throughout the day.</td>\n",
       "    </tr>\n",
       "    <tr>\n",
       "      <th>4</th>\n",
       "      <td>2006-04-01 02:00:00+00:00</td>\n",
       "      <td>Mostly Cloudy</td>\n",
       "      <td>rain</td>\n",
       "      <td>8.755556</td>\n",
       "      <td>6.977778</td>\n",
       "      <td>0.83</td>\n",
       "      <td>11.0446</td>\n",
       "      <td>259.0</td>\n",
       "      <td>15.8263</td>\n",
       "      <td>0.0</td>\n",
       "      <td>1016.51</td>\n",
       "      <td>Partly cloudy throughout the day.</td>\n",
       "    </tr>\n",
       "  </tbody>\n",
       "</table>\n",
       "</div>"
      ],
      "text/plain": [
       "                       date        summary preciptype  temperature  \\\n",
       "0 2006-03-31 22:00:00+00:00  Partly Cloudy       rain     9.472222   \n",
       "1 2006-03-31 23:00:00+00:00  Partly Cloudy       rain     9.355556   \n",
       "2 2006-04-01 00:00:00+00:00  Mostly Cloudy       rain     9.377778   \n",
       "3 2006-04-01 01:00:00+00:00  Partly Cloudy       rain     8.288889   \n",
       "4 2006-04-01 02:00:00+00:00  Mostly Cloudy       rain     8.755556   \n",
       "\n",
       "   apparenttemperature  humidity  windspeed  windbearing  visibility  \\\n",
       "0             7.388889      0.89    14.1197        251.0     15.8263   \n",
       "1             7.227778      0.86    14.2646        259.0     15.8263   \n",
       "2             9.377778      0.89     3.9284        204.0     14.9569   \n",
       "3             5.944444      0.83    14.1036        269.0     15.8263   \n",
       "4             6.977778      0.83    11.0446        259.0     15.8263   \n",
       "\n",
       "   loudcover  pressure                       dailysummary  \n",
       "0        0.0   1015.13  Partly cloudy throughout the day.  \n",
       "1        0.0   1015.63  Partly cloudy throughout the day.  \n",
       "2        0.0   1015.94  Partly cloudy throughout the day.  \n",
       "3        0.0   1016.41  Partly cloudy throughout the day.  \n",
       "4        0.0   1016.51  Partly cloudy throughout the day.  "
      ]
     },
     "execution_count": 2,
     "metadata": {},
     "output_type": "execute_result"
    }
   ],
   "source": [
    "weather_df.head()"
   ]
  },
  {
   "cell_type": "code",
   "execution_count": 3,
   "metadata": {},
   "outputs": [
    {
     "name": "stdout",
     "output_type": "stream",
     "text": [
      "<class 'pandas.core.frame.DataFrame'>\n",
      "RangeIndex: 96453 entries, 0 to 96452\n",
      "Data columns (total 12 columns):\n",
      "date                   96453 non-null datetime64[ns, UTC]\n",
      "summary                96453 non-null object\n",
      "preciptype             96453 non-null object\n",
      "temperature            96453 non-null float64\n",
      "apparenttemperature    96453 non-null float64\n",
      "humidity               96453 non-null float64\n",
      "windspeed              96453 non-null float64\n",
      "windbearing            96453 non-null float64\n",
      "visibility             96453 non-null float64\n",
      "loudcover              96453 non-null float64\n",
      "pressure               96453 non-null float64\n",
      "dailysummary           96453 non-null object\n",
      "dtypes: datetime64[ns, UTC](1), float64(8), object(3)\n",
      "memory usage: 8.8+ MB\n"
     ]
    }
   ],
   "source": [
    "weather_df.info()"
   ]
  },
  {
   "cell_type": "code",
   "execution_count": 4,
   "metadata": {},
   "outputs": [
    {
     "data": {
      "text/plain": [
       "date                   0\n",
       "summary                0\n",
       "preciptype             0\n",
       "temperature            0\n",
       "apparenttemperature    0\n",
       "humidity               0\n",
       "windspeed              0\n",
       "windbearing            0\n",
       "visibility             0\n",
       "loudcover              0\n",
       "pressure               0\n",
       "dailysummary           0\n",
       "dtype: int64"
      ]
     },
     "execution_count": 4,
     "metadata": {},
     "output_type": "execute_result"
    }
   ],
   "source": [
    "weather_df.isnull().sum()"
   ]
  },
  {
   "cell_type": "code",
   "execution_count": 5,
   "metadata": {},
   "outputs": [
    {
     "data": {
      "text/html": [
       "<div>\n",
       "<style scoped>\n",
       "    .dataframe tbody tr th:only-of-type {\n",
       "        vertical-align: middle;\n",
       "    }\n",
       "\n",
       "    .dataframe tbody tr th {\n",
       "        vertical-align: top;\n",
       "    }\n",
       "\n",
       "    .dataframe thead th {\n",
       "        text-align: right;\n",
       "    }\n",
       "</style>\n",
       "<table border=\"1\" class=\"dataframe\">\n",
       "  <thead>\n",
       "    <tr style=\"text-align: right;\">\n",
       "      <th></th>\n",
       "      <th>temperature</th>\n",
       "      <th>apparenttemperature</th>\n",
       "      <th>humidity</th>\n",
       "      <th>windspeed</th>\n",
       "      <th>windbearing</th>\n",
       "      <th>visibility</th>\n",
       "      <th>loudcover</th>\n",
       "      <th>pressure</th>\n",
       "    </tr>\n",
       "  </thead>\n",
       "  <tbody>\n",
       "    <tr>\n",
       "      <th>temperature</th>\n",
       "      <td>1.000000</td>\n",
       "      <td>0.992629</td>\n",
       "      <td>-0.632255</td>\n",
       "      <td>0.008957</td>\n",
       "      <td>0.029988</td>\n",
       "      <td>0.392847</td>\n",
       "      <td>NaN</td>\n",
       "      <td>-0.005447</td>\n",
       "    </tr>\n",
       "    <tr>\n",
       "      <th>apparenttemperature</th>\n",
       "      <td>0.992629</td>\n",
       "      <td>1.000000</td>\n",
       "      <td>-0.602571</td>\n",
       "      <td>-0.056650</td>\n",
       "      <td>0.029031</td>\n",
       "      <td>0.381718</td>\n",
       "      <td>NaN</td>\n",
       "      <td>-0.000219</td>\n",
       "    </tr>\n",
       "    <tr>\n",
       "      <th>humidity</th>\n",
       "      <td>-0.632255</td>\n",
       "      <td>-0.602571</td>\n",
       "      <td>1.000000</td>\n",
       "      <td>-0.224951</td>\n",
       "      <td>0.000735</td>\n",
       "      <td>-0.369173</td>\n",
       "      <td>NaN</td>\n",
       "      <td>0.005454</td>\n",
       "    </tr>\n",
       "    <tr>\n",
       "      <th>windspeed</th>\n",
       "      <td>0.008957</td>\n",
       "      <td>-0.056650</td>\n",
       "      <td>-0.224951</td>\n",
       "      <td>1.000000</td>\n",
       "      <td>0.103822</td>\n",
       "      <td>0.100749</td>\n",
       "      <td>NaN</td>\n",
       "      <td>-0.049263</td>\n",
       "    </tr>\n",
       "    <tr>\n",
       "      <th>windbearing</th>\n",
       "      <td>0.029988</td>\n",
       "      <td>0.029031</td>\n",
       "      <td>0.000735</td>\n",
       "      <td>0.103822</td>\n",
       "      <td>1.000000</td>\n",
       "      <td>0.047594</td>\n",
       "      <td>NaN</td>\n",
       "      <td>-0.011651</td>\n",
       "    </tr>\n",
       "    <tr>\n",
       "      <th>visibility</th>\n",
       "      <td>0.392847</td>\n",
       "      <td>0.381718</td>\n",
       "      <td>-0.369173</td>\n",
       "      <td>0.100749</td>\n",
       "      <td>0.047594</td>\n",
       "      <td>1.000000</td>\n",
       "      <td>NaN</td>\n",
       "      <td>0.059818</td>\n",
       "    </tr>\n",
       "    <tr>\n",
       "      <th>loudcover</th>\n",
       "      <td>NaN</td>\n",
       "      <td>NaN</td>\n",
       "      <td>NaN</td>\n",
       "      <td>NaN</td>\n",
       "      <td>NaN</td>\n",
       "      <td>NaN</td>\n",
       "      <td>NaN</td>\n",
       "      <td>NaN</td>\n",
       "    </tr>\n",
       "    <tr>\n",
       "      <th>pressure</th>\n",
       "      <td>-0.005447</td>\n",
       "      <td>-0.000219</td>\n",
       "      <td>0.005454</td>\n",
       "      <td>-0.049263</td>\n",
       "      <td>-0.011651</td>\n",
       "      <td>0.059818</td>\n",
       "      <td>NaN</td>\n",
       "      <td>1.000000</td>\n",
       "    </tr>\n",
       "  </tbody>\n",
       "</table>\n",
       "</div>"
      ],
      "text/plain": [
       "                     temperature  apparenttemperature  humidity  windspeed  \\\n",
       "temperature             1.000000             0.992629 -0.632255   0.008957   \n",
       "apparenttemperature     0.992629             1.000000 -0.602571  -0.056650   \n",
       "humidity               -0.632255            -0.602571  1.000000  -0.224951   \n",
       "windspeed               0.008957            -0.056650 -0.224951   1.000000   \n",
       "windbearing             0.029988             0.029031  0.000735   0.103822   \n",
       "visibility              0.392847             0.381718 -0.369173   0.100749   \n",
       "loudcover                    NaN                  NaN       NaN        NaN   \n",
       "pressure               -0.005447            -0.000219  0.005454  -0.049263   \n",
       "\n",
       "                     windbearing  visibility  loudcover  pressure  \n",
       "temperature             0.029988    0.392847        NaN -0.005447  \n",
       "apparenttemperature     0.029031    0.381718        NaN -0.000219  \n",
       "humidity                0.000735   -0.369173        NaN  0.005454  \n",
       "windspeed               0.103822    0.100749        NaN -0.049263  \n",
       "windbearing             1.000000    0.047594        NaN -0.011651  \n",
       "visibility              0.047594    1.000000        NaN  0.059818  \n",
       "loudcover                    NaN         NaN        NaN       NaN  \n",
       "pressure               -0.011651    0.059818        NaN  1.000000  "
      ]
     },
     "execution_count": 5,
     "metadata": {},
     "output_type": "execute_result"
    }
   ],
   "source": [
    "weather_df.corr()"
   ]
  },
  {
   "cell_type": "markdown",
   "metadata": {},
   "source": [
    "Target variables are humidity, windspeed, windbearing, and pressure."
   ]
  },
  {
   "cell_type": "code",
   "execution_count": 7,
   "metadata": {},
   "outputs": [
    {
     "data": {
      "text/html": [
       "<table class=\"simpletable\">\n",
       "<caption>OLS Regression Results</caption>\n",
       "<tr>\n",
       "  <th>Dep. Variable:</th>       <td>temperature</td>   <th>  R-squared:         </th>  <td>   0.421</td>  \n",
       "</tr>\n",
       "<tr>\n",
       "  <th>Model:</th>                   <td>OLS</td>       <th>  Adj. R-squared:    </th>  <td>   0.421</td>  \n",
       "</tr>\n",
       "<tr>\n",
       "  <th>Method:</th>             <td>Least Squares</td>  <th>  F-statistic:       </th>  <td>1.750e+04</td> \n",
       "</tr>\n",
       "<tr>\n",
       "  <th>Date:</th>             <td>Wed, 23 Oct 2019</td> <th>  Prob (F-statistic):</th>   <td>  0.00</td>   \n",
       "</tr>\n",
       "<tr>\n",
       "  <th>Time:</th>                 <td>12:23:32</td>     <th>  Log-Likelihood:    </th> <td>-3.2821e+05</td>\n",
       "</tr>\n",
       "<tr>\n",
       "  <th>No. Observations:</th>      <td> 96453</td>      <th>  AIC:               </th>  <td>6.564e+05</td> \n",
       "</tr>\n",
       "<tr>\n",
       "  <th>Df Residuals:</th>          <td> 96448</td>      <th>  BIC:               </th>  <td>6.565e+05</td> \n",
       "</tr>\n",
       "<tr>\n",
       "  <th>Df Model:</th>              <td>     4</td>      <th>                     </th>      <td> </td>     \n",
       "</tr>\n",
       "<tr>\n",
       "  <th>Covariance Type:</th>      <td>nonrobust</td>    <th>                     </th>      <td> </td>     \n",
       "</tr>\n",
       "</table>\n",
       "<table class=\"simpletable\">\n",
       "<tr>\n",
       "       <td></td>          <th>coef</th>     <th>std err</th>      <th>t</th>      <th>P>|t|</th>  <th>[0.025</th>    <th>0.975]</th>  \n",
       "</tr>\n",
       "<tr>\n",
       "  <th>const</th>       <td>   37.9264</td> <td>    0.233</td> <td>  162.709</td> <td> 0.000</td> <td>   37.470</td> <td>   38.383</td>\n",
       "</tr>\n",
       "<tr>\n",
       "  <th>windbearing</th> <td>    0.0040</td> <td>    0.000</td> <td>   18.463</td> <td> 0.000</td> <td>    0.004</td> <td>    0.004</td>\n",
       "</tr>\n",
       "<tr>\n",
       "  <th>windspeed</th>   <td>   -0.2014</td> <td>    0.003</td> <td>  -57.557</td> <td> 0.000</td> <td>   -0.208</td> <td>   -0.195</td>\n",
       "</tr>\n",
       "<tr>\n",
       "  <th>pressure</th>    <td>   -0.0007</td> <td>    0.000</td> <td>   -3.452</td> <td> 0.001</td> <td>   -0.001</td> <td>   -0.000</td>\n",
       "</tr>\n",
       "<tr>\n",
       "  <th>humidity</th>    <td>  -32.4962</td> <td>    0.123</td> <td> -264.288</td> <td> 0.000</td> <td>  -32.737</td> <td>  -32.255</td>\n",
       "</tr>\n",
       "</table>\n",
       "<table class=\"simpletable\">\n",
       "<tr>\n",
       "  <th>Omnibus:</th>       <td>3375.432</td> <th>  Durbin-Watson:     </th> <td>   0.059</td>\n",
       "</tr>\n",
       "<tr>\n",
       "  <th>Prob(Omnibus):</th>  <td> 0.000</td>  <th>  Jarque-Bera (JB):  </th> <td>3793.297</td>\n",
       "</tr>\n",
       "<tr>\n",
       "  <th>Skew:</th>           <td>-0.455</td>  <th>  Prob(JB):          </th> <td>    0.00</td>\n",
       "</tr>\n",
       "<tr>\n",
       "  <th>Kurtosis:</th>       <td> 3.339</td>  <th>  Cond. No.          </th> <td>1.06e+04</td>\n",
       "</tr>\n",
       "</table><br/><br/>Warnings:<br/>[1] Standard Errors assume that the covariance matrix of the errors is correctly specified.<br/>[2] The condition number is large, 1.06e+04. This might indicate that there are<br/>strong multicollinearity or other numerical problems."
      ],
      "text/plain": [
       "<class 'statsmodels.iolib.summary.Summary'>\n",
       "\"\"\"\n",
       "                            OLS Regression Results                            \n",
       "==============================================================================\n",
       "Dep. Variable:            temperature   R-squared:                       0.421\n",
       "Model:                            OLS   Adj. R-squared:                  0.421\n",
       "Method:                 Least Squares   F-statistic:                 1.750e+04\n",
       "Date:                Wed, 23 Oct 2019   Prob (F-statistic):               0.00\n",
       "Time:                        12:23:32   Log-Likelihood:            -3.2821e+05\n",
       "No. Observations:               96453   AIC:                         6.564e+05\n",
       "Df Residuals:                   96448   BIC:                         6.565e+05\n",
       "Df Model:                           4                                         \n",
       "Covariance Type:            nonrobust                                         \n",
       "===============================================================================\n",
       "                  coef    std err          t      P>|t|      [0.025      0.975]\n",
       "-------------------------------------------------------------------------------\n",
       "const          37.9264      0.233    162.709      0.000      37.470      38.383\n",
       "windbearing     0.0040      0.000     18.463      0.000       0.004       0.004\n",
       "windspeed      -0.2014      0.003    -57.557      0.000      -0.208      -0.195\n",
       "pressure       -0.0007      0.000     -3.452      0.001      -0.001      -0.000\n",
       "humidity      -32.4962      0.123   -264.288      0.000     -32.737     -32.255\n",
       "==============================================================================\n",
       "Omnibus:                     3375.432   Durbin-Watson:                   0.059\n",
       "Prob(Omnibus):                  0.000   Jarque-Bera (JB):             3793.297\n",
       "Skew:                          -0.455   Prob(JB):                         0.00\n",
       "Kurtosis:                       3.339   Cond. No.                     1.06e+04\n",
       "==============================================================================\n",
       "\n",
       "Warnings:\n",
       "[1] Standard Errors assume that the covariance matrix of the errors is correctly specified.\n",
       "[2] The condition number is large, 1.06e+04. This might indicate that there are\n",
       "strong multicollinearity or other numerical problems.\n",
       "\"\"\""
      ]
     },
     "execution_count": 7,
     "metadata": {},
     "output_type": "execute_result"
    }
   ],
   "source": [
    "import statsmodels.api as sm\n",
    "X = weather_df[['windbearing','windspeed','pressure','humidity']]\n",
    "Y = weather_df['temperature']\n",
    "# We need to manually add a constant\n",
    "# in statsmodels' sm\n",
    "X = sm.add_constant(X)\n",
    "\n",
    "results = sm.OLS(Y, X).fit()\n",
    "\n",
    "results.summary()"
   ]
  },
  {
   "cell_type": "code",
   "execution_count": 8,
   "metadata": {},
   "outputs": [],
   "source": [
    "#Assumption 1 - not sure how to do this"
   ]
  },
  {
   "cell_type": "code",
   "execution_count": 13,
   "metadata": {},
   "outputs": [
    {
     "name": "stdout",
     "output_type": "stream",
     "text": [
      "Mean of the errors in the medical costs model is: 1.578571320639247e-14\n"
     ]
    }
   ],
   "source": [
    "#Assumption 2\n",
    "predictions = results.predict(X)\n",
    "errors = Y - predictions\n",
    "\n",
    "print(\"Mean of the errors in the medical costs model is: {}\".format(errors.mean()))"
   ]
  },
  {
   "cell_type": "code",
   "execution_count": 14,
   "metadata": {},
   "outputs": [
    {
     "data": {
      "image/png": "[encoded data removed]",
      "text/plain": [
       "<Figure size 432x288 with 1 Axes>"
      ]
     },
     "metadata": {},
     "output_type": "display_data"
    }
   ],
   "source": [
    "#Assumption 3\n",
    "plt.scatter(predictions, errors)\n",
    "plt.xlabel('Predicted')\n",
    "plt.ylabel('Residual')\n",
    "plt.axhline(y=0)\n",
    "plt.title('Residual vs. Predicted')\n",
    "plt.show()"
   ]
  },
  {
   "cell_type": "markdown",
   "metadata": {},
   "source": [
    "It looks as though errors between 10-25 have more variance than 0-10 and 25-35. This looks like it may not hold."
   ]
  },
  {
   "cell_type": "code",
   "execution_count": 15,
   "metadata": {},
   "outputs": [
    {
     "data": {
      "text/html": [
       "<div>\n",
       "<style scoped>\n",
       "    .dataframe tbody tr th:only-of-type {\n",
       "        vertical-align: middle;\n",
       "    }\n",
       "\n",
       "    .dataframe tbody tr th {\n",
       "        vertical-align: top;\n",
       "    }\n",
       "\n",
       "    .dataframe thead th {\n",
       "        text-align: right;\n",
       "    }\n",
       "</style>\n",
       "<table border=\"1\" class=\"dataframe\">\n",
       "  <thead>\n",
       "    <tr style=\"text-align: right;\">\n",
       "      <th></th>\n",
       "      <th>temperature</th>\n",
       "      <th>apparenttemperature</th>\n",
       "      <th>humidity</th>\n",
       "      <th>windspeed</th>\n",
       "      <th>windbearing</th>\n",
       "      <th>visibility</th>\n",
       "      <th>loudcover</th>\n",
       "      <th>pressure</th>\n",
       "    </tr>\n",
       "  </thead>\n",
       "  <tbody>\n",
       "    <tr>\n",
       "      <th>temperature</th>\n",
       "      <td>1.000000</td>\n",
       "      <td>0.992629</td>\n",
       "      <td>-0.632255</td>\n",
       "      <td>0.008957</td>\n",
       "      <td>0.029988</td>\n",
       "      <td>0.392847</td>\n",
       "      <td>NaN</td>\n",
       "      <td>-0.005447</td>\n",
       "    </tr>\n",
       "    <tr>\n",
       "      <th>apparenttemperature</th>\n",
       "      <td>0.992629</td>\n",
       "      <td>1.000000</td>\n",
       "      <td>-0.602571</td>\n",
       "      <td>-0.056650</td>\n",
       "      <td>0.029031</td>\n",
       "      <td>0.381718</td>\n",
       "      <td>NaN</td>\n",
       "      <td>-0.000219</td>\n",
       "    </tr>\n",
       "    <tr>\n",
       "      <th>humidity</th>\n",
       "      <td>-0.632255</td>\n",
       "      <td>-0.602571</td>\n",
       "      <td>1.000000</td>\n",
       "      <td>-0.224951</td>\n",
       "      <td>0.000735</td>\n",
       "      <td>-0.369173</td>\n",
       "      <td>NaN</td>\n",
       "      <td>0.005454</td>\n",
       "    </tr>\n",
       "    <tr>\n",
       "      <th>windspeed</th>\n",
       "      <td>0.008957</td>\n",
       "      <td>-0.056650</td>\n",
       "      <td>-0.224951</td>\n",
       "      <td>1.000000</td>\n",
       "      <td>0.103822</td>\n",
       "      <td>0.100749</td>\n",
       "      <td>NaN</td>\n",
       "      <td>-0.049263</td>\n",
       "    </tr>\n",
       "    <tr>\n",
       "      <th>windbearing</th>\n",
       "      <td>0.029988</td>\n",
       "      <td>0.029031</td>\n",
       "      <td>0.000735</td>\n",
       "      <td>0.103822</td>\n",
       "      <td>1.000000</td>\n",
       "      <td>0.047594</td>\n",
       "      <td>NaN</td>\n",
       "      <td>-0.011651</td>\n",
       "    </tr>\n",
       "    <tr>\n",
       "      <th>visibility</th>\n",
       "      <td>0.392847</td>\n",
       "      <td>0.381718</td>\n",
       "      <td>-0.369173</td>\n",
       "      <td>0.100749</td>\n",
       "      <td>0.047594</td>\n",
       "      <td>1.000000</td>\n",
       "      <td>NaN</td>\n",
       "      <td>0.059818</td>\n",
       "    </tr>\n",
       "    <tr>\n",
       "      <th>loudcover</th>\n",
       "      <td>NaN</td>\n",
       "      <td>NaN</td>\n",
       "      <td>NaN</td>\n",
       "      <td>NaN</td>\n",
       "      <td>NaN</td>\n",
       "      <td>NaN</td>\n",
       "      <td>NaN</td>\n",
       "      <td>NaN</td>\n",
       "    </tr>\n",
       "    <tr>\n",
       "      <th>pressure</th>\n",
       "      <td>-0.005447</td>\n",
       "      <td>-0.000219</td>\n",
       "      <td>0.005454</td>\n",
       "      <td>-0.049263</td>\n",
       "      <td>-0.011651</td>\n",
       "      <td>0.059818</td>\n",
       "      <td>NaN</td>\n",
       "      <td>1.000000</td>\n",
       "    </tr>\n",
       "  </tbody>\n",
       "</table>\n",
       "</div>"
      ],
      "text/plain": [
       "                     temperature  apparenttemperature  humidity  windspeed  \\\n",
       "temperature             1.000000             0.992629 -0.632255   0.008957   \n",
       "apparenttemperature     0.992629             1.000000 -0.602571  -0.056650   \n",
       "humidity               -0.632255            -0.602571  1.000000  -0.224951   \n",
       "windspeed               0.008957            -0.056650 -0.224951   1.000000   \n",
       "windbearing             0.029988             0.029031  0.000735   0.103822   \n",
       "visibility              0.392847             0.381718 -0.369173   0.100749   \n",
       "loudcover                    NaN                  NaN       NaN        NaN   \n",
       "pressure               -0.005447            -0.000219  0.005454  -0.049263   \n",
       "\n",
       "                     windbearing  visibility  loudcover  pressure  \n",
       "temperature             0.029988    0.392847        NaN -0.005447  \n",
       "apparenttemperature     0.029031    0.381718        NaN -0.000219  \n",
       "humidity                0.000735   -0.369173        NaN  0.005454  \n",
       "windspeed               0.103822    0.100749        NaN -0.049263  \n",
       "windbearing             1.000000    0.047594        NaN -0.011651  \n",
       "visibility              0.047594    1.000000        NaN  0.059818  \n",
       "loudcover                    NaN         NaN        NaN       NaN  \n",
       "pressure               -0.011651    0.059818        NaN  1.000000  "
      ]
     },
     "execution_count": 15,
     "metadata": {},
     "output_type": "execute_result"
    }
   ],
   "source": [
    "# Assumption 4\n",
    "\n",
    "weather_df.corr()"
   ]
  },
  {
   "cell_type": "markdown",
   "metadata": {},
   "source": [
    "Viewing this correlation matrix, none of the variables we used in the model are highly correlated with each other."
   ]
  },
  {
   "cell_type": "code",
   "execution_count": 16,
   "metadata": {},
   "outputs": [
    {
     "data": {
      "image/png": "[encoded data removed]",
      "text/plain": [
       "<Figure size 432x288 with 1 Axes>"
      ]
     },
     "metadata": {},
     "output_type": "display_data"
    }
   ],
   "source": [
    "# Assumption 5\n",
    "\n",
    "plt.plot(errors)\n",
    "plt.show()"
   ]
  },
  {
   "cell_type": "markdown",
   "metadata": {},
   "source": [
    "We see randomness in this plot, meaning the assumption holds that are errors are not correlated"
   ]
  },
  {
   "cell_type": "code",
   "execution_count": 17,
   "metadata": {},
   "outputs": [
    {
     "data": {
      "image/png": "[encoded data removed]",
      "text/plain": [
       "<Figure size 432x288 with 1 Axes>"
      ]
     },
     "metadata": {},
     "output_type": "display_data"
    }
   ],
   "source": [
    "# Assumption 6\n",
    "\n",
    "plt.hist(errors)\n",
    "plt.show()"
   ]
  },
  {
   "cell_type": "markdown",
   "metadata": {},
   "source": [
    "Errors appear to potentially follow the normal distribution, lets take a closer look."
   ]
  },
  {
   "cell_type": "code",
   "execution_count": 18,
   "metadata": {},
   "outputs": [],
   "source": [
    "from scipy.stats import jarque_bera\n",
    "from scipy.stats import normaltest"
   ]
  },
  {
   "cell_type": "code",
   "execution_count": 19,
   "metadata": {},
   "outputs": [
    {
     "name": "stdout",
     "output_type": "stream",
     "text": [
      "Jarque-Bera test statistics is 3793.296735252373 and p value is 0.0\n",
      "Normality test statistics is 3375.432307699589 and p value is 0.0\n"
     ]
    }
   ],
   "source": [
    "jb_stats = jarque_bera(errors)\n",
    "norm_stats = normaltest(errors)\n",
    "\n",
    "print(\"Jarque-Bera test statistics is {0} and p value is {1}\".format(jb_stats[0], jb_stats[1]))\n",
    "print(\"Normality test statistics is {0} and p value is {1}\".format(norm_stats[0], norm_stats[1]))"
   ]
  },
  {
   "cell_type": "markdown",
   "metadata": {},
   "source": [
    "p value is 0, meaning the null hypothesis of the errors beign normally distributed is rejected. This assumption holds."
   ]
  },
  {
   "cell_type": "code",
   "execution_count": null,
   "metadata": {},
   "outputs": [],
   "source": []
  }
 ],
 "metadata": {
  "kernelspec": {
   "display_name": "Python 3",
   "language": "python",
   "name": "python3"
  },
  "language_info": {
   "codemirror_mode": {
    "name": "ipython",
    "version": 3
   },
   "file_extension": ".py",
   "mimetype": "text/x-python",
   "name": "python",
   "nbconvert_exporter": "python",
   "pygments_lexer": "ipython3",
   "version": "3.6.4"
  }
 },
 "nbformat": 4,
 "nbformat_minor": 2
}
