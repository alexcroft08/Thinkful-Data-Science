{
 "cells": [
  {
   "cell_type": "markdown",
   "metadata": {},
   "source": [
    "When designing a coin flip experiment, different factors to consider would be: weight/density of coin, height of coin flip, amount of coin rotations during flight, force applied to coin, dimensions of coin\n",
    "\n",
    "You would think most of these would be irrelevant if you used the same coin, whilst amount of coin rotations, height of flip, and force applied to coin would be fairly difficult to monitor."
   ]
  },
  {
   "cell_type": "markdown",
   "metadata": {},
   "source": [
    "Different features in Netflix model: user interaction(view history), time of day, how long a person watches, devices watched on."
   ]
  },
  {
   "cell_type": "code",
   "execution_count": null,
   "metadata": {},
   "outputs": [],
   "source": []
  }
 ],
 "metadata": {
  "kernelspec": {
   "display_name": "Python 3",
   "language": "python",
   "name": "python3"
  },
  "language_info": {
   "codemirror_mode": {
    "name": "ipython",
    "version": 3
   },
   "file_extension": ".py",
   "mimetype": "text/x-python",
   "name": "python",
   "nbconvert_exporter": "python",
   "pygments_lexer": "ipython3",
   "version": "3.6.4"
  }
 },
 "nbformat": 4,
 "nbformat_minor": 2
}
