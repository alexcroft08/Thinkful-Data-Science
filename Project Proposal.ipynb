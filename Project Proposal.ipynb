{
 "cells": [
  {
   "cell_type": "markdown",
   "metadata": {},
   "source": [
    "# Project Proposal\n",
    "\n",
    "This project will attempt to predict the performance of stocks given financial data commonly found in the 10K filings. This solution will be both classification, ie should you buy this stock or not, as well as a regression analysis of the actual future value of the stock. Companies spend countless dollars and resources trying to gain an edge on Wall Street and this solution could provide value to companies and employees in finance across the world."
   ]
  },
  {
   "cell_type": "markdown",
   "metadata": {},
   "source": [
    "My Data source: https://www.kaggle.com/cnic92/200-financial-indicators-of-us-stocks-20142018 contains 200+ financial indicators from the year 2018, that are commonly found in the 10-K filings each publicly traded company releases yearly, for a plethora of US stocks (4k stocks are listed in each dataset). The dataset was built leveraging Financial Modeling Prep API and pandas_datareader."
   ]
  },
  {
   "cell_type": "markdown",
   "metadata": {},
   "source": [
    "There are two key columns at the end of the dataset, **PRICE VAR** and **class.** **PRICE VAR** is how much the stock grew for the year of 2019 (Jan19 to Dec19) allowing us to use the 2018 financial indicators to attempt to predict this value. **Class** is a binary classification of the stock, 1 means we should buy the stock and 0 means we should not. The **Class** column is simply set to 1 if the **PRICE VAR** is positive. This will allow me to use both classification (**Class**) and Regression(**PRICE VAR**) techniques from the course. As my dataset is so large (220 columns, 19000 rows) I will use Regression analysis techniques like Random Forest and Linear Regression and then compare those models to a Tensorflow Neural Network. I expect that due to the size of my dataset being relatively small, the Tensorflow NN will not perform as well as the others.  I will also be able to do some unsupervised learning using the **Sector** column. The stocks are broken down into 11 sectors(Finance, Healthcare, etc.) which I will be able to use clustering techniques to analyze further."
   ]
  },
  {
   "cell_type": "markdown",
   "metadata": {
    "slideshow": {
     "slide_type": "slide"
    }
   },
   "source": [
    "I anticipate the biggest challenge will be EDA, as there are so many columns and missing data that I will need to figure out how to attack it! I expect constructing my neural network will also be challenging to get the performance to be where I am hoping it can get to. Please let me know your feedback when you can."
   ]
  },
  {
   "cell_type": "markdown",
   "metadata": {},
   "source": [
    "What I hope to achieve is to build a model that users will be able to use to make decisions on which stocks to purchase and achieve financial gain. The user will take as an input the financial indicators from each year, which are readily available online, and use this information to forecast the potential future value of that stock. "
   ]
  },
  {
   "cell_type": "code",
   "execution_count": null,
   "metadata": {},
   "outputs": [],
   "source": []
  }
 ],
 "metadata": {
  "kernelspec": {
   "display_name": "Python 3",
   "language": "python",
   "name": "python3"
  },
  "language_info": {
   "codemirror_mode": {
    "name": "ipython",
    "version": 3
   },
   "file_extension": ".py",
   "mimetype": "text/x-python",
   "name": "python",
   "nbconvert_exporter": "python",
   "pygments_lexer": "ipython3",
   "version": "3.6.10"
  }
 },
 "nbformat": 4,
 "nbformat_minor": 4
}
