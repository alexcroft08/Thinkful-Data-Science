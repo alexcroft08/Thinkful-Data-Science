{
 "cells": [
  {
   "cell_type": "code",
   "execution_count": 3,
   "metadata": {},
   "outputs": [
    {
     "name": "stdout",
     "output_type": "stream",
     "text": [
      "0.9983361064891847\n"
     ]
    }
   ],
   "source": [
    "#1.\n",
    "y_1 = 5\n",
    "y_2 = 8\n",
    "s_1 = 1\n",
    "s_2 = 3\n",
    "n_1 = 200\n",
    "n_2 = 500\n",
    "\n",
    "t_1 = abs(y_1 - y_2) / (((s_1 ** 2) **0.5)/n_1 + ((s_2 ** 2)**0.5))\n",
    "print(t_1)"
   ]
  },
  {
   "cell_type": "code",
   "execution_count": 4,
   "metadata": {},
   "outputs": [
    {
     "name": "stdout",
     "output_type": "stream",
     "text": [
      "3.02828618968386\n"
     ]
    }
   ],
   "source": [
    "#2. \n",
    "y_1 = 1090\n",
    "y_2 = 999\n",
    "s_1 = 45\n",
    "s_2 = 30\n",
    "n_1 = 900\n",
    "n_2 = 100\n",
    "\n",
    "t_2 = abs(y_1 - y_2) / (((s_1 ** 2) **0.5)/n_1 + ((s_2 ** 2)**0.5))\n",
    "print(t_2)"
   ]
  },
  {
   "cell_type": "code",
   "execution_count": 5,
   "metadata": {},
   "outputs": [
    {
     "name": "stdout",
     "output_type": "stream",
     "text": [
      "0.12492972702854643\n"
     ]
    }
   ],
   "source": [
    "#3. \n",
    "y_1 = 45\n",
    "y_2 = 40\n",
    "s_1 = 45\n",
    "s_2 = 40\n",
    "n_1 = 2000\n",
    "n_2 = 2000\n",
    "\n",
    "t_3 = abs(y_1 - y_2) / (((s_1 ** 2) **0.5)/n_1 + ((s_2 ** 2)**0.5))\n",
    "print(t_3)"
   ]
  },
  {
   "cell_type": "code",
   "execution_count": null,
   "metadata": {},
   "outputs": [],
   "source": []
  }
 ],
 "metadata": {
  "kernelspec": {
   "display_name": "Python 3",
   "language": "python",
   "name": "python3"
  },
  "language_info": {
   "codemirror_mode": {
    "name": "ipython",
    "version": 3
   },
   "file_extension": ".py",
   "mimetype": "text/x-python",
   "name": "python",
   "nbconvert_exporter": "python",
   "pygments_lexer": "ipython3",
   "version": "3.6.4"
  }
 },
 "nbformat": 4,
 "nbformat_minor": 2
}
