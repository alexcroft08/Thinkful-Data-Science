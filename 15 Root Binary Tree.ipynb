{
 "cells": [
  {
   "cell_type": "code",
   "execution_count": 1,
   "metadata": {},
   "outputs": [],
   "source": [
    "import random\n",
    "\n",
    "class Node:\n",
    "    def __init__(self, val):\n",
    "        self.left = None\n",
    "        self.right = None\n",
    "        self.val = val"
   ]
  },
  {
   "cell_type": "code",
   "execution_count": 3,
   "metadata": {},
   "outputs": [],
   "source": [
    "root = Node(15)\n",
    "root.left= Node(14)\n",
    "root.right = Node(13)\n",
    "root.left.left = Node(12)\n",
    "root.left.right = Node(11)\n",
    "root.right.right = Node(10)\n",
    "root.right.left = Node(9)\n",
    "root.left.left.left = Node(8)\n",
    "root.left.left.right = Node(7)\n",
    "root.right.left.left = Node(6)\n",
    "root.right.left.right = Node(5)\n",
    "root.right.right.left = Node(3)\n",
    "root.right.right.right = Node(1)\n",
    "\n"
   ]
  },
  {
   "cell_type": "code",
   "execution_count": null,
   "metadata": {},
   "outputs": [],
   "source": []
  }
 ],
 "metadata": {
  "kernelspec": {
   "display_name": "Python 3",
   "language": "python",
   "name": "python3"
  },
  "language_info": {
   "codemirror_mode": {
    "name": "ipython",
    "version": 3
   },
   "file_extension": ".py",
   "mimetype": "text/x-python",
   "name": "python",
   "nbconvert_exporter": "python",
   "pygments_lexer": "ipython3",
   "version": "3.6.10"
  }
 },
 "nbformat": 4,
 "nbformat_minor": 2
}
