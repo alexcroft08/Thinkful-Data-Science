{
 "cells": [
  {
   "cell_type": "markdown",
   "metadata": {},
   "source": [
    "# A/B testing Assignment\n",
    "\n",
    "Does a new supplement help people sleep better?\n",
    "Will new uniforms help a gym's business?\n",
    "Will a new homepage improve my online exotic pet rental business?\n",
    "If I put 'please read' in the email subject will more people read my emails?"
   ]
  },
  {
   "cell_type": "markdown",
   "metadata": {},
   "source": [
    "###  Does a new supplement help people sleep better?\n",
    "\n",
    "To run this assessment I would administer the new supplement to 250 people and a sugar pill to the other 250 without letting the people know which pill they are receiving(Two components). The 500 people chosen would have to be a variety of ages to ensure we are not only testing the drug on a certain age bracket, and a mix of genders(Sample).  My hypothesis is that the group taking the new supplement will be able to fall asleep easier and sleep for longer (Hypothesis). To determine if the pill is working, I would monitor how long a person sleeps per night(key metric). I would monitor how long it takes each group to fall asleep in addition to how long they stay asleep as this could be considered 'sleeping better' (other key metric)."
   ]
  },
  {
   "cell_type": "markdown",
   "metadata": {},
   "source": [
    "### Will new uniforms help a gym's business?\n",
    "\n",
    "To run this assessment my sample will consist  of all the sales people working at the gym (Sample). My hypothesis is that sales people wearing the new uniforms will sign up more people for subscriptions to the gym(Hypothesis). I would give half of the sales people new uniforms, and the other half old uniforms for 1 week (two components). I will measure the amount of sign-ups the sales people are able to get for that week(key metric). The next week, I would have the uniforms switched, so all sales people wearing a new uniform now have the old uniform and vice versa. Sales will be measured again. If the sales people wearing new uniforms are able to sign up more customers, we can conclude the hypothesis is true. It would be important to make sure the dates this experiment are run do not coincide with seasonal conditions where a person is more likely to sign up for a gym, such as the beginning of a New Year.\n",
    "\n",
    "\n"
   ]
  },
  {
   "cell_type": "markdown",
   "metadata": {},
   "source": [
    "### Will a new homepage improve my exotic pet rental business?\n",
    "\n",
    "To run this assessment my two components are the new homepage and the old homepage (two components). My sample is going to be visitors to the site(Sample). The key metric I would look into are the amount of sales per visitor of the two sites. My hypothesis is that the new homepage will increase the amount of sales/visitor. Other measured variables to look at are the amount of visitors to the site overall and the average time in which somebody stays on the page after visiting the site. If the amount of sales per visitor is higher with the new homepage, we can conclude my hypothesis is true."
   ]
  },
  {
   "cell_type": "markdown",
   "metadata": {},
   "source": [
    "### If I put 'please read' in the email subject will more people read my emails?\n",
    "\n",
    "The sample in this experiment are 1000 people(sample) split in half receiving the same email with the only change being adding 'please read' in the email subject(two components). My hypothesis is that adding 'please read' will increase the amount of people that click on the email and open it(key metric). Another key metric to monitor would be how long a person has the email open before closing or discarding it. If more people click on the email with 'please read' in the subject, we can confirm the hypothesis to be true. It would be important to make sure the people in the sample are all in similar lines of business and at similar levels in their careers to ensure the two groups are as similar as possible."
   ]
  },
  {
   "cell_type": "code",
   "execution_count": null,
   "metadata": {},
   "outputs": [],
   "source": []
  }
 ],
 "metadata": {
  "kernelspec": {
   "display_name": "Python 3",
   "language": "python",
   "name": "python3"
  },
  "language_info": {
   "codemirror_mode": {
    "name": "ipython",
    "version": 3
   },
   "file_extension": ".py",
   "mimetype": "text/x-python",
   "name": "python",
   "nbconvert_exporter": "python",
   "pygments_lexer": "ipython3",
   "version": "3.6.4"
  }
 },
 "nbformat": 4,
 "nbformat_minor": 2
}
