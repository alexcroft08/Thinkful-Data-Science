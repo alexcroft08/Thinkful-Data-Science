{
 "cells": [
  {
   "cell_type": "markdown",
   "metadata": {},
   "source": [
    "Now it's time to flex your critical evaluation skills. Read the following descriptions of an experiment and its analysis, identify the flaws in each, and describe what you would do to correct them.\n",
    "\n",
    "\n",
    " \n",
    "## 1. \n",
    "The main issue with this experiment is that Emperor Palpatine might have way better presentation skills than Darth Vader, causing more people to believe in his speech regardless of the slogan presented. To design this experiment properly, you would need to have the same person present each slogan.\n",
    "## 2. \n",
    "The issue with this experiment lies in the sample. It’s possible that the people Windu spoke with were far more unfriendly to begin with than the audience Jar Jar spoke to. To improve the results of this experiment, you would need to ensure the sample planets targeted had similar levels of feeling towards the Jedi to conclude that one representative was more successful than the other.\n",
    "## 3.\n",
    "The issue with this experiment has to do with Simpson’s Paradox. Simpson's Paradox is the phenomenon when an average over a number of groups shows one trend, but an average for each individual group shows the opposite trend, or no trend. It’s possible that the averages show that people are satisfied overall with their job, but what if there are 20 locations showing an 85% satisfaction rate, and 1 location showing a 20% satisfaction rate? The report would show that overall employees are over 80% happy when in fact there is a location that is very unhappy. To properly design this experiment, you would need to present the satisfaction rates of employees at each location individually.\n",
    "## 4. \n",
    "The problem with this experiment is that people have the option to opt-in or opt-out to the data collection. I believe that people that initially install the app are more likely to show activity levels rise because they are more motivated at that point, hence the reason they downloaded the app. To fix this experiment, you would need to collect data over an extended period of time (let’s say, 6 months) to accurately model people’s activity.\n",
    "## 5. \n",
    "The problem with this experiment is that it’s possible that smarter students were picking the test deemed ‘easier’ and as a result were doing better on the exam. The only way to know which exam out of the three is easiest or hardest is to have all the students take all 3 exams and then compare the results.\n"
   ]
  },
  {
   "cell_type": "code",
   "execution_count": null,
   "metadata": {},
   "outputs": [],
   "source": []
  }
 ],
 "metadata": {
  "kernelspec": {
   "display_name": "Python 3",
   "language": "python",
   "name": "python3"
  },
  "language_info": {
   "codemirror_mode": {
    "name": "ipython",
    "version": 3
   },
   "file_extension": ".py",
   "mimetype": "text/x-python",
   "name": "python",
   "nbconvert_exporter": "python",
   "pygments_lexer": "ipython3",
   "version": "3.6.4"
  }
 },
 "nbformat": 4,
 "nbformat_minor": 2
}
